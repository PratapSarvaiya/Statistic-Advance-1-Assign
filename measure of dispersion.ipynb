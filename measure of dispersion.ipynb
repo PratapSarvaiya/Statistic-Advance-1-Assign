{
 "cells": [
  {
   "cell_type": "code",
   "execution_count": 8,
   "id": "1deb8bea-5232-4a65-86fd-fe53355fd6b1",
   "metadata": {},
   "outputs": [
    {
     "data": {
      "text/plain": [
       "[2, 3, 4, 5, 8, 9, 12, 40, 41, 15]"
      ]
     },
     "execution_count": 8,
     "metadata": {},
     "output_type": "execute_result"
    }
   ],
   "source": [
    "data = [2,3,4,5,8,9,12,40,41,15]\n",
    "data"
   ]
  },
  {
   "cell_type": "code",
   "execution_count": 9,
   "id": "e81da0e3-5908-4cc5-8d8f-29b90ef93483",
   "metadata": {},
   "outputs": [
    {
     "data": {
      "text/plain": [
       "39"
      ]
     },
     "execution_count": 9,
     "metadata": {},
     "output_type": "execute_result"
    }
   ],
   "source": [
    "#measure of dispersion/spread\n",
    "\n",
    "#1. range\n",
    "\n",
    "max(data) - min(data)"
   ]
  },
  {
   "cell_type": "code",
   "execution_count": 10,
   "id": "214d60ff-eaec-43a4-960d-54decd56aacb",
   "metadata": {},
   "outputs": [
    {
     "data": {
      "text/plain": [
       "array([ 2.  ,  4.25,  8.5 , 14.25, 41.  ])"
      ]
     },
     "execution_count": 10,
     "metadata": {},
     "output_type": "execute_result"
    }
   ],
   "source": [
    "#2. percentile\n",
    "import numpy as np\n",
    "np.percentile(data,[0,25,50,75,100])"
   ]
  },
  {
   "cell_type": "code",
   "execution_count": 11,
   "id": "59657a8d-e31b-4bc5-859b-e074024a04a0",
   "metadata": {},
   "outputs": [
    {
     "data": {
      "text/plain": [
       "10.0"
      ]
     },
     "execution_count": 11,
     "metadata": {},
     "output_type": "execute_result"
    }
   ],
   "source": [
    "#3. IQR\n",
    "14.25-4.25"
   ]
  },
  {
   "cell_type": "code",
   "execution_count": 12,
   "id": "9616b87f-bc79-4da1-9dd3-e1c2c5b775ba",
   "metadata": {},
   "outputs": [
    {
     "data": {
      "text/plain": [
       "<Axes: >"
      ]
     },
     "execution_count": 12,
     "metadata": {},
     "output_type": "execute_result"
    },
    {
     "data": {
      "image/png": "[encoded data removed]",
      "text/plain": [
       "<Figure size 640x480 with 1 Axes>"
      ]
     },
     "metadata": {},
     "output_type": "display_data"
    }
   ],
   "source": [
    "#4. box-plot\n",
    "import seaborn as sns\n",
    "sns.boxplot(data)  # upper fence>>Q3+1.5*IQR, Lower fence = Q1-1.5*IQR"
   ]
  },
  {
   "cell_type": "code",
   "execution_count": 13,
   "id": "58403aaf-efb8-4f7c-9d79-0b85adf6f976",
   "metadata": {},
   "outputs": [
    {
     "data": {
      "text/plain": [
       "np.float64(191.69000000000003)"
      ]
     },
     "execution_count": 13,
     "metadata": {},
     "output_type": "execute_result"
    }
   ],
   "source": [
    "# Variance\n",
    "np.var(data)"
   ]
  },
  {
   "cell_type": "code",
   "execution_count": 14,
   "id": "e6fb550d-953e-4da7-acdf-fabcb4cef224",
   "metadata": {},
   "outputs": [
    {
     "data": {
      "text/plain": [
       "np.float64(13.8452157801892)"
      ]
     },
     "execution_count": 14,
     "metadata": {},
     "output_type": "execute_result"
    }
   ],
   "source": [
    "# 6. Standard deviation\n",
    "np.std(data)"
   ]
  },
  {
   "cell_type": "code",
   "execution_count": 17,
   "id": "2a3dbf70-f486-4dbd-814b-a9c5d02db816",
   "metadata": {},
   "outputs": [
    {
     "data": {
      "text/plain": [
       "212.98888888888888"
      ]
     },
     "execution_count": 17,
     "metadata": {},
     "output_type": "execute_result"
    }
   ],
   "source": [
    "import statistics\n",
    "statistics.variance(data) # sample variance >> denomiter is n-1"
   ]
  },
  {
   "cell_type": "code",
   "execution_count": 18,
   "id": "f66c5d8c-78a4-4feb-9751-4424708288d4",
   "metadata": {},
   "outputs": [
    {
     "data": {
      "text/plain": [
       "191.69"
      ]
     },
     "execution_count": 18,
     "metadata": {},
     "output_type": "execute_result"
    }
   ],
   "source": [
    "statistics.pvariance(data) # pvariance means population variance"
   ]
  },
  {
   "cell_type": "code",
   "execution_count": 19,
   "id": "51767030-bba1-4989-86d9-b28326439055",
   "metadata": {},
   "outputs": [
    {
     "data": {
      "text/plain": [
       "np.float64(1.2320350579023576)"
      ]
     },
     "execution_count": 19,
     "metadata": {},
     "output_type": "execute_result"
    }
   ],
   "source": [
    "# measure of symmetricity,skewness\n",
    "# skewness\n",
    "\n",
    "from scipy.stats import skew\n",
    "skew(data) # since skewness value is 1.23 it is moderately skewed data"
   ]
  },
  {
   "cell_type": "code",
   "execution_count": 20,
   "id": "490f99d0-d277-442f-80ff-2c5a4e7c602d",
   "metadata": {},
   "outputs": [
    {
     "data": {
      "text/plain": [
       "np.float64(0.5844726562500003)"
      ]
     },
     "execution_count": 20,
     "metadata": {},
     "output_type": "execute_result"
    }
   ],
   "source": [
    "d = [2,3,5,7,11]\n",
    "skew(d)  # data is almost same range, so skewness close to 0"
   ]
  },
  {
   "cell_type": "code",
   "execution_count": null,
   "id": "0bb565f1-cf42-4c45-a5ea-54aa91a79146",
   "metadata": {},
   "outputs": [],
   "source": []
  }
 ],
 "metadata": {
  "kernelspec": {
   "display_name": "Python 3 (ipykernel)",
   "language": "python",
   "name": "python3"
  },
  "language_info": {
   "codemirror_mode": {
    "name": "ipython",
    "version": 3
   },
   "file_extension": ".py",
   "mimetype": "text/x-python",
   "name": "python",
   "nbconvert_exporter": "python",
   "pygments_lexer": "ipython3",
   "version": "3.11.9"
  }
 },
 "nbformat": 4,
 "nbformat_minor": 5
}
